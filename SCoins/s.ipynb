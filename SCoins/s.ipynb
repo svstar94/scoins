{
 "metadata": {
  "language_info": {
   "codemirror_mode": {
    "name": "ipython",
    "version": 3
   },
   "file_extension": ".py",
   "mimetype": "text/x-python",
   "name": "python",
   "nbconvert_exporter": "python",
   "pygments_lexer": "ipython3",
   "version": "3.8.5-final"
  },
  "orig_nbformat": 2,
  "kernelspec": {
   "name": "python3",
   "display_name": "Python 3",
   "language": "python"
  }
 },
 "nbformat": 4,
 "nbformat_minor": 2,
 "cells": [
  {
   "cell_type": "code",
   "execution_count": 1,
   "metadata": {},
   "outputs": [],
   "source": [
    "Category = [\n",
    "    ['수익', ['월급', '외주', '보너스', '이익배당금']],\n",
    "    ['성장', ['자기계발']],\n",
    "    ['생활', ['식사', '미용', '의복', '생활용품', '통신비', '교통비']],\n",
    "    ['여가', ['커피', '게임', ' 보험', '여행', '문화']],\n",
    "    ['기타', ['기타', '병원', '경조사', '애완동물']]\n",
    "]"
   ]
  },
  {
   "cell_type": "code",
   "execution_count": 11,
   "metadata": {},
   "outputs": [
    {
     "output_type": "execute_result",
     "data": {
      "text/plain": [
       "['수익', ['월급', '외주', '보너스', '이익배당금']]"
      ]
     },
     "metadata": {},
     "execution_count": 11
    }
   ],
   "source": []
  },
  {
   "cell_type": "code",
   "execution_count": null,
   "metadata": {},
   "outputs": [],
   "source": []
  }
 ]
}